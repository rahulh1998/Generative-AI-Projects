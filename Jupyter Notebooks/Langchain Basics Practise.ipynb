{
 "cells": [
  {
   "cell_type": "code",
   "execution_count": 8,
   "id": "089150ef",
   "metadata": {},
   "outputs": [],
   "source": [
    "# Importing Libraries\n",
    "\n",
    "from dotenv import load_dotenv\n",
    "load_dotenv()\n",
    "import os\n",
    "\n",
    "os.environ['LANGCHAIN_TRACING_V2'] = 'true'\n",
    "os.environ['LANGCHAIN_PROJECT'] = os.getenv('LANGCHAIN_PROJECT')\n",
    "os.environ['GROQ_API_KEY'] = os.getenv('GROQ_API_KEY')\n",
    "\n",
    "from langchain.chains import LLMChain\n",
    "from langchain.prompts import PromptTemplate\n",
    "\n",
    "from langchain_groq import ChatGroq\n",
    "from langchain_core.output_parsers import StrOutputParser\n",
    "\n"
   ]
  },
  {
   "cell_type": "code",
   "execution_count": null,
   "id": "ce68a498",
   "metadata": {},
   "outputs": [
    {
     "data": {
      "text/plain": [
       "'Starting with agentic AI can be a fascinating journey. Agentic AI refers to AI systems that can act autonomously, making decisions and taking actions on their own. Here\\'s a step-by-step guide to help you get started:\\n\\n1. **Understand the Fundamentals**: Begin by learning the basics of AI, machine learning, and deep learning. Familiarize yourself with popular AI frameworks like TensorFlow, PyTorch, or Keras.\\n\\n2. **Identify Your Goals**: Determine what you want to achieve with your agentic AI project. Do you want to build a robotic agent, a game-playing AI, or an autonomous system for a specific industry? Clarifying your goals will help you focus on the right areas.\\n\\n3. **Choose a Programming Language**: Python is a popular choice for AI development due to its extensive libraries and frameworks. Familiarize yourself with Python and its AI-related libraries, such as NumPy, scikit-learn, and PyTorch.\\n\\n4. **Learn About Agent Architectures**: Study different agent architectures, such as:\\n\\t* **Reactive Agents**: Simple agents that react to the environment without memory or planning.\\n\\t* **Proactive Agents**: Agents that can anticipate and plan for future events.\\n\\t* **Autonomous Agents**: Agents that can operate independently, making decisions and taking actions.\\n\\n5. **Explore Agentic AI Frameworks and Tools**: Look into frameworks and tools that can help you build agentic AI systems, such as:\\n\\t* **Reinforcement Learning (RL) frameworks**: like Gym, Universe, or Stable Baselines.\\n\\t* **Multi-Agent Systems (MAS) frameworks**: like Mesa, Ray, or PettingZoo.\\n\\t* **Robotics and Simulation platforms**: like ROS, Gazebo, or Mujoco.\\n\\n6. **Develop a Simple Agent**: Start building a simple agent using a framework or library. For example, you can create a basic RL agent using PyTorch or TensorFlow.\\n\\n7. **Experiment and Iterate**: As you gain experience, experiment with different agent architectures, algorithms, and environments. Iterate on your design, testing, and refining your agentic AI system.\\n\\n8. **Stay Up-to-Date with Research**: Agentic AI is an active research area. Stay current with the latest developments by reading research papers, attending conferences, and following industry leaders.\\n\\nSome popular resources to get you started:\\n\\n* **Books**: \"Deep Reinforcement Learning\" by Sergey Levine, \"Multi-Agent Systems\" by Michael Wooldridge.\\n* **Courses**: Stanford CS234: Reinforcement Learning, MIT 6.S191: Introduction to Deep Learning.\\n* **Communities**: Join online forums like Reddit\\'s r/MachineLearning and r/AI, or participate in AI-related Discord servers.\\n\\nBy following these steps, you\\'ll be well on your way to exploring the exciting world of agentic AI.'"
      ]
     },
     "execution_count": 9,
     "metadata": {},
     "output_type": "execute_result"
    }
   ],
   "source": [
    "# \n",
    "\n",
    "llm = ChatGroq(model = 'groq/compound-mini')\n",
    "\n",
    "\n",
    "template = \"\"\"\n",
    "You are an expert in answering questions related to AI:\n",
    "Questions \" {question}\n",
    "\"\"\"\n",
    "parser = StrOutputParser()\n",
    "\n",
    "prompt = PromptTemplate(input_variables= ['question'],\n",
    "                         template=template)\n",
    "\n",
    "chain = prompt | llm | parser\n",
    "\n",
    "\n",
    "res = chain.invoke('Which is the best way to start with agentic ai')\n",
    "res"
   ]
  },
  {
   "cell_type": "code",
   "execution_count": null,
   "id": "8e6cc720",
   "metadata": {},
   "outputs": [],
   "source": []
  }
 ],
 "metadata": {
  "kernelspec": {
   "display_name": "Python (genai)",
   "language": "python",
   "name": "genai"
  },
  "language_info": {
   "codemirror_mode": {
    "name": "ipython",
    "version": 3
   },
   "file_extension": ".py",
   "mimetype": "text/x-python",
   "name": "python",
   "nbconvert_exporter": "python",
   "pygments_lexer": "ipython3",
   "version": "3.12.11"
  }
 },
 "nbformat": 4,
 "nbformat_minor": 5
}
