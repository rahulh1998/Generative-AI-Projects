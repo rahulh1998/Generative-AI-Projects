{
 "cells": [
  {
   "cell_type": "code",
   "execution_count": 4,
   "id": "089150ef",
   "metadata": {},
   "outputs": [],
   "source": [
    "# Importing Libraries\n",
    "\n",
    "from dotenv import load_dotenv\n",
    "load_dotenv()\n",
    "import os\n",
    "\n",
    "os.environ['LANGCHAIN_TRACING_V2'] = 'true'\n",
    "os.environ['LANGCHAIN_PROJECT'] = os.getenv('LANGCHAIN_PROJECT')\n",
    "os.environ['GROQ_API_KEY'] = os.getenv('GROQ_API_KEY')\n",
    "\n",
    "from langchain.chains import LLMChain\n",
    "from langchain.prompts import PromptTemplate\n",
    "\n",
    "from langchain_groq import ChatGroq\n",
    "from langchain_core.output_parsers import StrOutputParser\n",
    "\n"
   ]
  },
  {
   "cell_type": "code",
   "execution_count": null,
   "id": "ce68a498",
   "metadata": {},
   "outputs": [
    {
     "data": {
      "text/plain": [
       "\"Question : Which is the best way to start with agentic AI?\\nAnswer : To start with agentic AI, I recommend beginning with the basics of AI and machine learning, specifically focusing on understanding autonomous agents, reinforcement learning, and cognitive architectures. A good starting point would be to explore popular frameworks and tools such as LangChain, AutoGen, or even simple libraries like Python's Gym or Universe. Start by building simple agents that can perform tasks autonomously, and then gradually move on to more complex agentic AI systems that involve planning, decision-making, and human-AI interaction. \\n\\nAdditionally, consider diving into the following areas:\\n1. **Foundations of AI**: Brush up on linear algebra, calculus, probability, and programming skills.\\n2. **Machine Learning**: Understand supervised, unsupervised, and reinforcement learning.\\n3. **Agentic AI frameworks**: Familiarize yourself with frameworks and tools designed for building agentic AI.\\n4. **Cognitive architectures**: Study cognitive architectures like SOAR, LIDA, or CLARION that are used in agentic AI.\\n5. **Ethics and Safety**: Consider the ethical implications and safety concerns associated with agentic AI.\\n\\nExperimenting with simple projects and gradually increasing complexity will provide practical experience and deepen your understanding of agentic AI.\""
      ]
     },
     "execution_count": 3,
     "metadata": {},
     "output_type": "execute_result"
    }
   ],
   "source": [
    "# Basic LLM Usage\n",
    "\n",
    "llm = ChatGroq(model = 'groq/compound-mini')\n",
    "\n",
    "\n",
    "template = \"\"\"\n",
    "You are an expert in answering questions related to AI:\n",
    "Questions \" {question}\n",
    "\n",
    "Return your response in this format:\n",
    "Question : {question}\n",
    "Answer : Response\n",
    "\"\"\"\n",
    "\n",
    "parser = StrOutputParser()\n",
    "\n",
    "prompt = PromptTemplate(input_variables= ['question'],\n",
    "                         template=template)\n",
    "\n",
    "chain = prompt | llm | parser\n",
    "\n",
    "\n",
    "res = chain.invoke('Which is the best way to start with agentic ai')\n",
    "res"
   ]
  },
  {
   "cell_type": "code",
   "execution_count": null,
   "id": "8e6cc720",
   "metadata": {},
   "outputs": [],
   "source": []
  }
 ],
 "metadata": {
  "kernelspec": {
   "display_name": "Python (genai)",
   "language": "python",
   "name": "genai"
  },
  "language_info": {
   "codemirror_mode": {
    "name": "ipython",
    "version": 3
   },
   "file_extension": ".py",
   "mimetype": "text/x-python",
   "name": "python",
   "nbconvert_exporter": "python",
   "pygments_lexer": "ipython3",
   "version": "3.12.11"
  }
 },
 "nbformat": 4,
 "nbformat_minor": 5
}
