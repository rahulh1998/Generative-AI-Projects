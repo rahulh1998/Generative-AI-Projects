{
 "cells": [
  {
   "cell_type": "code",
   "execution_count": 6,
   "id": "d53b91d9",
   "metadata": {},
   "outputs": [],
   "source": [
    "# Importing libraries\n",
    "\n",
    "import streamlit as st\n",
    "import os\n",
    "from dotenv import load_dotenv\n",
    "\n",
    "from langchain_core.prompts import ChatPromptTemplate, MessagesPlaceholder\n",
    "from langchain_core.output_parsers import StrOutputParser\n",
    "from langchain_groq import ChatGroq\n",
    "from langchain_core.runnables.history import RunnableWithMessageHistory\n",
    "from langchain.memory import ChatMessageHistory\n",
    "from langchain_ollama import OllamaLLM,OllamaEmbeddings\n",
    "\n",
    "# Load env\n",
    "load_dotenv()\n",
    "os.environ[\"GROQ_API_KEY\"] = os.getenv(\"GROQ_API_KEY\")\n",
    "os.environ[\"LANGCHAIN_API_KEY\"] = os.getenv(\"LANGCHAIN_API_KEY\")\n",
    "os.environ[\"LANGCHAIN_PROJECT\"] = os.getenv(\"LANGCHAIN_PROJECT\")\n",
    "os.environ[\"LANGCHAIN_TRACING_V2\"] = \"true\"\n",
    "\n",
    "import warnings\n",
    "warnings.filterwarnings(\"ignore\")"
   ]
  },
  {
   "cell_type": "code",
   "execution_count": null,
   "id": "b3fe31d5",
   "metadata": {},
   "outputs": [
    {
     "data": {
      "text/plain": [
       "'Berlin'"
      ]
     },
     "execution_count": 14,
     "metadata": {},
     "output_type": "execute_result"
    }
   ],
   "source": [
    "## Simple Ollama Call\n",
    "\n",
    "# Initialize the model\n",
    "ollama_model_name = \"gemma3:4b\"\n",
    "embedding_model = \"embeddinggemma:300m\"\n",
    "\n",
    "# Loading the models\n",
    "import subprocess\n",
    "subprocess.run([\"ollama\",\"pull\",ollama_model_name])\n",
    "# subprocess.run([\"ollama\",\"pull\",embedding_model])\n",
    "\n",
    "llm = OllamaLLM(model = ollama_model_name)\n",
    "\n",
    "llm.invoke(\"What is capital of germany in a single word\")\n"
   ]
  },
  {
   "cell_type": "code",
   "execution_count": 40,
   "id": "735102b1",
   "metadata": {},
   "outputs": [],
   "source": [
    "# Creating a prompt with history\n",
    "prompt = ChatPromptTemplate.from_messages([\n",
    "    (\"system\",\"You are smart and expert assistant. Answer the user questions simply\"),\n",
    "    MessagesPlaceholder(variable_name='history'),\n",
    "    (\"human\",\"{question}\")\n",
    "])\n",
    "\n",
    "# Defining the chain\n",
    "chain = prompt|llm|StrOutputParser()\n"
   ]
  },
  {
   "cell_type": "code",
   "execution_count": 38,
   "id": "2c790bc4",
   "metadata": {},
   "outputs": [],
   "source": [
    "from langchain_core.chat_history import BaseChatMessageHistory\n",
    "# Creating Message History Module\n",
    "store = {}\n",
    "\n",
    "def get_session_history(session_id:str)->BaseChatMessageHistory:\n",
    "    if session_id not in store:\n",
    "        store[session_id] = ChatMessageHistory()\n",
    "    return store[session_id]\n",
    "\n",
    "with_session_history = RunnableWithMessageHistory(chain,get_session_history, input_messages_key='question', history_messages_key='history')\n",
    "\n",
    "config = {\"configurable\":{\"session_id\":\"rahul\"}}"
   ]
  },
  {
   "cell_type": "code",
   "execution_count": 43,
   "id": "508a799b",
   "metadata": {},
   "outputs": [
    {
     "data": {
      "text/plain": [
       "\"Hi Rahul! It's great to hear from you again. 😊 \\n\\nWhat's on your mind today?\""
      ]
     },
     "execution_count": 43,
     "metadata": {},
     "output_type": "execute_result"
    }
   ],
   "source": [
    "with_session_history.invoke({\"question\":\"Hi im Rahul\"},config=config)"
   ]
  },
  {
   "cell_type": "code",
   "execution_count": 44,
   "id": "0a99380a",
   "metadata": {},
   "outputs": [
    {
     "data": {
      "text/plain": [
       "\"Hi Rahul! Your name is Rahul. 😊 \\n\\nIt's good to confirm that! Is there anything else you’d like to chat about?\""
      ]
     },
     "execution_count": 44,
     "metadata": {},
     "output_type": "execute_result"
    }
   ],
   "source": [
    "with_session_history.invoke({\"question\":\"what is my name\"},config=config)"
   ]
  },
  {
   "cell_type": "code",
   "execution_count": 45,
   "id": "4814c386",
   "metadata": {},
   "outputs": [
    {
     "data": {
      "text/plain": [
       "{'rahul': InMemoryChatMessageHistory(messages=[HumanMessage(content='Hi im Rahul', additional_kwargs={}, response_metadata={}), AIMessage(content=\"Hi Rahul! It's nice to meet you. 😊 \\n\\nHow can I help you today? Do you have a question you'd like to ask, or were you just saying hello?\", additional_kwargs={}, response_metadata={}), HumanMessage(content='Hi im Rahul', additional_kwargs={}, response_metadata={}), AIMessage(content=\"Hi Rahul! It's great to hear from you again. 😊 \\n\\nWhat's on your mind today?\", additional_kwargs={}, response_metadata={}), HumanMessage(content='what is my name', additional_kwargs={}, response_metadata={}), AIMessage(content=\"Hi Rahul! Your name is Rahul. 😊 \\n\\nIt's good to confirm that! Is there anything else you’d like to chat about?\", additional_kwargs={}, response_metadata={})])}"
      ]
     },
     "execution_count": 45,
     "metadata": {},
     "output_type": "execute_result"
    }
   ],
   "source": [
    "store"
   ]
  },
  {
   "cell_type": "code",
   "execution_count": null,
   "id": "9c7d60b9",
   "metadata": {},
   "outputs": [],
   "source": []
  }
 ],
 "metadata": {
  "kernelspec": {
   "display_name": "Python (genai)",
   "language": "python",
   "name": "genai"
  },
  "language_info": {
   "codemirror_mode": {
    "name": "ipython",
    "version": 3
   },
   "file_extension": ".py",
   "mimetype": "text/x-python",
   "name": "python",
   "nbconvert_exporter": "python",
   "pygments_lexer": "ipython3",
   "version": "3.12.11"
  }
 },
 "nbformat": 4,
 "nbformat_minor": 5
}
